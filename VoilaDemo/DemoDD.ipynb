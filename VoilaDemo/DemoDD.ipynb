{
 "cells": [
  {
   "cell_type": "code",
   "execution_count": null,
   "metadata": {},
   "outputs": [],
   "source": [
    "import numpy as np\n",
    "import matplotlib.pyplot as plt\n",
    "from DriftDiffusion import PureDriftDiffusion\n",
    "from ipywidgets import interactive\n",
    "%matplotlib inline"
   ]
  },
  {
   "cell_type": "code",
   "execution_count": 2,
   "metadata": {},
   "outputs": [
    {
     "ename": "NameError",
     "evalue": "name 'interactive' is not defined",
     "output_type": "error",
     "traceback": [
      "\u001b[0;31m---------------------------------------------------------------------------\u001b[0m",
      "\u001b[0;31mNameError\u001b[0m                                 Traceback (most recent call last)",
      "\u001b[0;32m<ipython-input-2-26b3fa094fb1>\u001b[0m in \u001b[0;36m<module>\u001b[0;34m\u001b[0m\n\u001b[1;32m     47\u001b[0m     \u001b[0mplt\u001b[0m\u001b[0;34m.\u001b[0m\u001b[0mtitle\u001b[0m\u001b[0;34m(\u001b[0m\u001b[0;34m'Pure Drift Diffusion'\u001b[0m\u001b[0;34m,\u001b[0m \u001b[0mfontsize\u001b[0m\u001b[0;34m=\u001b[0m\u001b[0;36m16\u001b[0m\u001b[0;34m,\u001b[0m \u001b[0;34m**\u001b[0m\u001b[0mtmfont\u001b[0m\u001b[0;34m)\u001b[0m\u001b[0;34m\u001b[0m\u001b[0;34m\u001b[0m\u001b[0m\n\u001b[1;32m     48\u001b[0m \u001b[0;34m\u001b[0m\u001b[0m\n\u001b[0;32m---> 49\u001b[0;31m interactive_plot = interactive(\n\u001b[0m\u001b[1;32m     50\u001b[0m     \u001b[0mplot_func\u001b[0m\u001b[0;34m,\u001b[0m\u001b[0;34m\u001b[0m\u001b[0;34m\u001b[0m\u001b[0m\n\u001b[1;32m     51\u001b[0m     \u001b[0mtime\u001b[0m\u001b[0;34m=\u001b[0m\u001b[0;34m(\u001b[0m\u001b[0;36m0\u001b[0m\u001b[0;34m,\u001b[0m\u001b[0;36m.2\u001b[0m\u001b[0;34m,\u001b[0m\u001b[0;36m.01\u001b[0m\u001b[0;34m)\u001b[0m\u001b[0;34m,\u001b[0m\u001b[0;34m\u001b[0m\u001b[0;34m\u001b[0m\u001b[0m\n",
      "\u001b[0;31mNameError\u001b[0m: name 'interactive' is not defined"
     ]
    }
   ],
   "source": [
    "def plot_func(\n",
    "    time,\n",
    "    drift_rate,\n",
    "    diffusion_rate,\n",
    "    steps,\n",
    "    trials,\n",
    "):\n",
    "    # Uneditable inputs at the moment \n",
    "    start=0\n",
    "    thresholds=(-1,1)\n",
    "    bounds=(-2,2)\n",
    "    interval=(0,2.5)\n",
    "    \n",
    "    model = PureDriftDiffusion(\n",
    "        time,\n",
    "        drift_rate,\n",
    "        start,\n",
    "        diffusion_rate,\n",
    "        thresholds,\n",
    "        bounds,\n",
    "        steps,\n",
    "        interval,\n",
    "        trials,\n",
    "    )\n",
    "    \n",
    "    results = model.call()\n",
    "    \n",
    "    x1, x2, y1, y2 = plt.axis()\n",
    "    plt.axis((interval[0], interval[1], bounds[0], bounds[1]))\n",
    "\n",
    "    max_trial_len = max([len(vals) for vals in results])+(steps//1000)\n",
    "    for vals in results:\n",
    "        fill_val = thresholds[1] if (vals[-1] > 0) else thresholds[0]\n",
    "        vals = np.append(\n",
    "            arr=vals,\n",
    "            values=[np.full(shape=max_trial_len-len(vals), fill_value=fill_val)]\n",
    "        )\n",
    "        plt.plot(\n",
    "            np.linspace(start=interval[0], stop=interval[1]+1, num=max_trial_len),\n",
    "            vals,\n",
    "            linewidth=0.70,\n",
    "        )\n",
    "        \n",
    "    tmfont = {'fontname': \"Times New Roman\"}\n",
    "    plt.axhline(y=thresholds[1], color='black', linewidth=0.85)\n",
    "    plt.axhline(y=thresholds[0], color='black', linewidth=0.85)\n",
    "    plt.xlabel('Time', fontsize=14, **tmfont)\n",
    "    plt.ylabel('Accumulation', fontsize=14, **tmfont)\n",
    "    plt.title('Pure Drift Diffusion', fontsize=16, **tmfont)\n",
    "\n",
    "interactive_plot = interactive(\n",
    "    plot_func, \n",
    "    time=(0,.2,.01),\n",
    "    drift_rate=(0,2,.1),\n",
    "    diffusion_rate=(0,2,.1),\n",
    "    steps=(0, 100000, 5000),\n",
    "    trials=(0, 10, 1),\n",
    ")\n",
    "output = interactive_plot.children[-1]\n",
    "output.layout.height = '800px'\n",
    "output.layout.width = '800px'\n",
    "interactive_plot"
   ]
  },
  {
   "cell_type": "code",
   "execution_count": null,
   "metadata": {},
   "outputs": [],
   "source": []
  }
 ],
 "metadata": {
  "kernelspec": {
   "display_name": "Python 3",
   "language": "python",
   "name": "python3"
  },
  "language_info": {
   "codemirror_mode": {
    "name": "ipython",
    "version": 3
   },
   "file_extension": ".py",
   "mimetype": "text/x-python",
   "name": "python",
   "nbconvert_exporter": "python",
   "pygments_lexer": "ipython3",
   "version": "3.8.5"
  }
 },
 "nbformat": 4,
 "nbformat_minor": 4
}
